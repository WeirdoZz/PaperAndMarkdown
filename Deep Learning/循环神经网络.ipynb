{
 "cells": [
  {
   "cell_type": "code",
   "execution_count": 3,
   "metadata": {},
   "outputs": [
    {
     "name": "stderr",
     "output_type": "stream",
     "text": [
      "Matplotlib is building the font cache; this may take a moment.\n"
     ]
    },
    {
     "data": {
      "text/plain": [
       "tensor([[ 1.5402, -3.2591, -3.8080, -1.4936],\n",
       "        [ 2.4416, -3.6408,  3.0020,  0.3232],\n",
       "        [ 1.7768, -2.9507,  0.1652,  0.3970]])"
      ]
     },
     "execution_count": 3,
     "metadata": {},
     "output_type": "execute_result"
    }
   ],
   "source": [
    "import torch \n",
    "from d2l import torch as d2l\n",
    "\n",
    "X,W_xh=torch.normal(0,1,(3,1)),torch.normal(0,1,(1,4))\n",
    "H,W_hh=torch.normal(0,1,(3,4)),torch.normal(0,1,(4,4))\n",
    "\n",
    "torch.matmul(X,W_xh)+torch.matmul(H,W_hh)"
   ]
  },
  {
   "cell_type": "code",
   "execution_count": 2,
   "metadata": {},
   "outputs": [
    {
     "data": {
      "text/plain": [
       "tensor([[ 0.5947,  2.3092,  1.5331, -0.2630],\n",
       "        [ 1.2679,  0.1751,  1.0526, -1.8398],\n",
       "        [ 0.8831, -0.3855,  1.0038, -1.8170]])"
      ]
     },
     "execution_count": 2,
     "metadata": {},
     "output_type": "execute_result"
    }
   ],
   "source": [
    "torch.matmul(torch.cat((X,H),1),torch.cat((W_xh,W_hh),0))"
   ]
  },
  {
   "cell_type": "code",
   "execution_count": null,
   "metadata": {},
   "outputs": [],
   "source": []
  }
 ],
 "metadata": {
  "interpreter": {
   "hash": "4cddc6a761772f09bdc816d4c8a9607d53bc5eb5813e332343549772becad59b"
  },
  "kernelspec": {
   "display_name": "Python 3.8.8 64-bit ('DeepLearning': conda)",
   "language": "python",
   "name": "python3"
  },
  "language_info": {
   "codemirror_mode": {
    "name": "ipython",
    "version": 3
   },
   "file_extension": ".py",
   "mimetype": "text/x-python",
   "name": "python",
   "nbconvert_exporter": "python",
   "pygments_lexer": "ipython3",
   "version": "3.8.8"
  },
  "orig_nbformat": 4
 },
 "nbformat": 4,
 "nbformat_minor": 2
}
