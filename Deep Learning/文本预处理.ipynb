{
 "cells": [
  {
   "cell_type": "code",
   "execution_count": 1,
   "metadata": {},
   "outputs": [],
   "source": [
    "import collections\n",
    "import re\n",
    "from d2l import torch as d2l"
   ]
  },
  {
   "cell_type": "code",
   "execution_count": 2,
   "metadata": {},
   "outputs": [
    {
     "name": "stdout",
     "output_type": "stream",
     "text": [
      "# 文本总行数：3221\n",
      "the time machine by h g wells\n",
      "twinkled and his usually pale face was flushed and animated the\n"
     ]
    }
   ],
   "source": [
    "#首先需要读取数据集\n",
    "d2l.DATA_HUB['time_machine']=(d2l.DATA_URL + 'timemachine.txt',\n",
    "                                '090b5e7e70c295757f55df93cb0a180b9691891a')\n",
    "#定义读取时间机器数据集的函数,并将其中所有的非字母替换成空格，并且全部改成小写\n",
    "def read_time_machine():\n",
    "    with open(d2l.download('time_machine'),'r') as f:\n",
    "        lines=f.readlines()\n",
    "    \n",
    "    return [re.sub('[^A-Za-z]+',' ',line).strip().lower() for line in lines ]\n",
    "\n",
    "lines=read_time_machine()\n",
    "print(f'# 文本总行数：{len(lines)}')\n",
    "print(lines[0])\n",
    "print(lines[10])"
   ]
  },
  {
   "cell_type": "code",
   "execution_count": 3,
   "metadata": {},
   "outputs": [
    {
     "name": "stdout",
     "output_type": "stream",
     "text": [
      "['the', 'time', 'machine', 'by', 'h', 'g', 'wells']\n",
      "[]\n",
      "[]\n",
      "[]\n",
      "[]\n",
      "['i']\n",
      "[]\n",
      "[]\n",
      "['the', 'time', 'traveller', 'for', 'so', 'it', 'will', 'be', 'convenient', 'to', 'speak', 'of', 'him']\n",
      "['was', 'expounding', 'a', 'recondite', 'matter', 'to', 'us', 'his', 'grey', 'eyes', 'shone', 'and']\n",
      "['twinkled', 'and', 'his', 'usually', 'pale', 'face', 'was', 'flushed', 'and', 'animated', 'the']\n"
     ]
    }
   ],
   "source": [
    "#接下来进行词元化\n",
    "def tokenize(lines,token='word'):\n",
    "    #如果是单词，就将行按照空格分开\n",
    "    if token=='word':\n",
    "        return [line.split() for line in lines]\n",
    "    #如果是字母，就将行转成列表\n",
    "    elif token=='char':\n",
    "        return [list(line) for line in lines]\n",
    "    else:\n",
    "        print('错误：未知词元类型：'+token)\n",
    "\n",
    "tokens= tokenize(lines)\n",
    "for i in range(11):\n",
    "    print(tokens[i])"
   ]
  },
  {
   "cell_type": "code",
   "execution_count": 4,
   "metadata": {},
   "outputs": [],
   "source": [
    "#计算词元出现的频率\n",
    "def count_corpus(tokens):\n",
    "    #这里的tokens是1D列表或者2D列表\n",
    "    if len(tokens)==0 or isinstance(tokens[0],list):\n",
    "        #将次元列表战平成一个列表,这里的line是2维的列表中的每行的意思\n",
    "        tokens=[token for line in tokens for token in line]\n",
    "    #返回词元和出现频次的数据结构\n",
    "    return collections.Counter(tokens)\n",
    "\n",
    "#定义词表类\n",
    "class Vocab:\n",
    "    def __init__(self,tokens=None,min_freq=0,reserved_tokens=None):\n",
    "        #如果词元和保留词元没有给出的话，就给他们初始化为空列表\n",
    "        if tokens is None:\n",
    "            tokens=[]\n",
    "        if reserved_tokens is None:\n",
    "            reserved_tokens=[]\n",
    "        \n",
    "        #按照出现的频率进行排序\n",
    "        counter=count_corpus(tokens)\n",
    "        #按降序排列，频次高的在前面\n",
    "        self._token_freqs=sorted(counter.items(),key=lambda x:x[1],reverse=True )\n",
    "\n",
    "        #未知的词元的索引为0\n",
    "        self.idx_to_token=['<unk>']+reserved_tokens\n",
    "        #保留词元对应的索引\n",
    "        self.token_to_idx={token:idx for idx,token in enumerate(self.idx_to_token)}\n",
    "\n",
    "        for token,freq in self._token_freqs:\n",
    "            #如果该词元出现的频次比较低，就直接删除\n",
    "            if freq<min_freq:\n",
    "                break\n",
    "            #如果当前的词元没有出现在已经记录的词元列表中，则要放进去\n",
    "            if token not in self.token_to_idx:\n",
    "                self.idx_to_token.append(token)\n",
    "                self.token_to_idx[token]=len(self.idx_to_token)-1\n",
    "\n",
    "    def __len__(self):\n",
    "        return len(self.idx_to_token)\n",
    "    \n",
    "    def __getitem__(self,tokens):\n",
    "        #获取给出词元的索引，如果获取不到的话，就说明是unk词元，返回self.unk就可以了\n",
    "        if not isinstance(tokens,(list,tuple)):\n",
    "            return self.token_to_idx.get(tokens,self.unk)\n",
    "        #否则递归调用自身\n",
    "        return [self.__getitem__(token) for token in tokens]\n",
    "    \n",
    "    #获取索引对应的词元\n",
    "    def to_tokens(self,indices):\n",
    "        if not isinstance(indices,(list,tuple)):\n",
    "            return self.idx_to_token[indices]\n",
    "\n",
    "        return[self.idx_to_token[index] for index in indices] \n",
    "\n",
    "    def unk():\n",
    "        return 0\n",
    "\n",
    "    def token_freqs(self):\n",
    "        return self._token_freqs\n",
    "        "
   ]
  },
  {
   "cell_type": "code",
   "execution_count": 5,
   "metadata": {},
   "outputs": [
    {
     "name": "stdout",
     "output_type": "stream",
     "text": [
      "[('<unk>', 0), ('the', 1), ('i', 2), ('and', 3), ('of', 4), ('a', 5), ('to', 6), ('was', 7), ('in', 8), ('that', 9)]\n"
     ]
    }
   ],
   "source": [
    "#首先使用时光机器数据集作为语料库来构建词表，然后打印前几个高频词元，及其索引\n",
    "vocab=Vocab(tokens)\n",
    "print(list(vocab.token_to_idx.items())[:10])"
   ]
  },
  {
   "cell_type": "code",
   "execution_count": 6,
   "metadata": {},
   "outputs": [
    {
     "name": "stdout",
     "output_type": "stream",
     "text": [
      "文本： ['the', 'time', 'machine', 'by', 'h', 'g', 'wells']\n",
      "索引： [1, 19, 50, 40, 2183, 2184, 400]\n",
      "文本： ['twinkled', 'and', 'his', 'usually', 'pale', 'face', 'was', 'flushed', 'and', 'animated', 'the']\n",
      "索引： [2186, 3, 25, 1044, 362, 113, 7, 1421, 3, 1045, 1]\n"
     ]
    }
   ],
   "source": [
    "#接下来可以把每一条文本行转换成一个数字索引列表\n",
    "for i in [0,10]:\n",
    "    print('文本：',tokens[i])\n",
    "    print('索引：',vocab[tokens[i]])"
   ]
  },
  {
   "cell_type": "code",
   "execution_count": 10,
   "metadata": {},
   "outputs": [
    {
     "data": {
      "text/plain": [
       "(170580, 28)"
      ]
     },
     "execution_count": 10,
     "metadata": {},
     "output_type": "execute_result"
    }
   ],
   "source": [
    "#整合上述所有的功能,返回时光机器数据集的词元索引表和词表\n",
    "def load_corpus_time_machine(max_tokens=-1):\n",
    "    lines=read_time_machine()\n",
    "    tokens=tokenize(lines,'char')\n",
    "    vocab=Vocab(tokens)\n",
    "    #因为这个数据集中每个文本行不一定是一个句子或者段落，所以将所有文本行展平到一个列表中\n",
    "    corpus=[vocab[token] for line in tokens for token in line]\n",
    "    if max_tokens>0:\n",
    "        corpus=corpus[:max_tokens]\n",
    "    return corpus,vocab\n",
    "\n",
    "corpus,vocab=load_corpus_time_machine()\n",
    "len(corpus),len(vocab)"
   ]
  }
 ],
 "metadata": {
  "interpreter": {
   "hash": "509613a040fc28972bc06b4d9c1a59b883185c0eaa84739b0195a1c7529c5004"
  },
  "kernelspec": {
   "display_name": "Python 3.8.8 64-bit ('DeepLearning': conda)",
   "language": "python",
   "name": "python3"
  },
  "language_info": {
   "codemirror_mode": {
    "name": "ipython",
    "version": 3
   },
   "file_extension": ".py",
   "mimetype": "text/x-python",
   "name": "python",
   "nbconvert_exporter": "python",
   "pygments_lexer": "ipython3",
   "version": "3.8.8"
  },
  "orig_nbformat": 4
 },
 "nbformat": 4,
 "nbformat_minor": 2
}
